{
 "cells": [
  {
   "cell_type": "markdown",
   "id": "add31e2e",
   "metadata": {},
   "source": [
    "# Data Science Tools and Ecosystem"
   ]
  },
  {
   "cell_type": "markdown",
   "id": "639a23f8",
   "metadata": {},
   "source": [
    "## Author\n",
    "Anton Sjögren"
   ]
  },
  {
   "cell_type": "markdown",
   "id": "658e96b1",
   "metadata": {},
   "source": [
    "In this notebook, Data Science Tools and Ecosystem are summarized."
   ]
  },
  {
   "cell_type": "markdown",
   "id": "b35a128e",
   "metadata": {},
   "source": [
    "**Objectives:**\n",
    "* List popular languages for Data Science\n",
    "* Mention some of the commonly used libraries for Data Science\n",
    "* Show some of the more common development environment tools used in Data Science\n",
    "* Illustrate how to use arithmetic expressions in Python"
   ]
  },
  {
   "cell_type": "markdown",
   "id": "dec65500",
   "metadata": {},
   "source": [
    "Some of the popular languages that Data Scientists use are:\n",
    "1. Python\n",
    "2. SQL\n",
    "3. Julia"
   ]
  },
  {
   "cell_type": "markdown",
   "id": "f9da34cc",
   "metadata": {},
   "source": [
    "Some of the commonly used libraries used by Data Scientists include:\n",
    "1. Pandas\n",
    "2. NumPy\n",
    "3. Matplotlib\n",
    "4. Scikit-learn"
   ]
  },
  {
   "cell_type": "markdown",
   "id": "2d484d23",
   "metadata": {},
   "source": [
    "|Data Science Tools|\n",
    "|-|\n",
    "|VS Code|\n",
    "|JupyterLab|\n",
    "|RStudio|"
   ]
  },
  {
   "cell_type": "markdown",
   "id": "15cce0fd",
   "metadata": {},
   "source": [
    "### Below are a few examples of evaluating arithmetic expressions in Python"
   ]
  },
  {
   "cell_type": "code",
   "execution_count": 1,
   "id": "e4701195",
   "metadata": {},
   "outputs": [
    {
     "data": {
      "text/plain": [
       "17"
      ]
     },
     "execution_count": 1,
     "metadata": {},
     "output_type": "execute_result"
    }
   ],
   "source": [
    "# This a simple arithmetic expression to mutiply then add integers\n",
    "(3*4)+5"
   ]
  },
  {
   "cell_type": "code",
   "execution_count": 2,
   "id": "193ca61d",
   "metadata": {},
   "outputs": [
    {
     "data": {
      "text/plain": [
       "3.3333333333333335"
      ]
     },
     "execution_count": 2,
     "metadata": {},
     "output_type": "execute_result"
    }
   ],
   "source": [
    "# This will convert 200 minutes to hours by diving by 60\n",
    "200/60"
   ]
  }
 ],
 "metadata": {
  "kernelspec": {
   "display_name": "Python 3 (ipykernel)",
   "language": "python",
   "name": "python3"
  },
  "language_info": {
   "codemirror_mode": {
    "name": "ipython",
    "version": 3
   },
   "file_extension": ".py",
   "mimetype": "text/x-python",
   "name": "python",
   "nbconvert_exporter": "python",
   "pygments_lexer": "ipython3",
   "version": "3.11.7"
  }
 },
 "nbformat": 4,
 "nbformat_minor": 5
}
